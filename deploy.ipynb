{
 "cells": [
  {
   "cell_type": "code",
   "execution_count": null,
   "id": "33501c21-4d35-4a17-ab1f-6d01629e64ed",
   "metadata": {},
   "outputs": [],
   "source": [
    "import os\n",
    "\n",
    "\n",
    "os.makedirs(\"templates\", exist_ok=True)\n"
   ]
  },
  {
   "cell_type": "code",
   "execution_count": null,
   "id": "19aafdcd-03c3-4711-852f-c6ac96f57999",
   "metadata": {},
   "outputs": [],
   "source": [
    "%%writefile templates/index.html\n",
    "<!DOCTYPE html>\n",
    "<html>\n",
    "<head>\n",
    "    <title>Titanic Survival Prediction</title>\n",
    "</head>\n",
    "<body style=\"font-family: Arial; text-align: center; margin-top: 50px;\">\n",
    "    <h2>Titanic Survival Prediction</h2>\n",
    "    <form action=\"/predict\" method=\"post\">\n",
    "        <label>Pclass (1,2,3):</label><br>\n",
    "        <input type=\"number\" name=\"pclass\" required><br><br>\n",
    "\n",
    "        <label>Sex (0 = Female, 1 = Male):</label><br>\n",
    "        <input type=\"number\" name=\"sex\" required><br><br>\n",
    "\n",
    "        <label>Age:</label><br>\n",
    "        <input type=\"number\" step=\"0.1\" name=\"age\" required><br><br>\n",
    "\n",
    "        <label>SibSp:</label><br>\n",
    "        <input type=\"number\" name=\"sibsp\" required><br><br>\n",
    "\n",
    "        <label>Parch:</label><br>\n",
    "        <input type=\"number\" name=\"parch\" required><br><br>\n",
    "\n",
    "        <label>Fare:</label><br>\n",
    "        <input type=\"number\" step=\"0.1\" name=\"fare\" required><br><br>\n",
    "\n",
    "        <label>Embarked (0 = S, 1 = C, 2 = Q):</label><br>\n",
    "        <input type=\"number\" name=\"embarked\" required><br><br>\n",
    "\n",
    "        <button type=\"submit\">Predict</button>\n",
    "    </form>\n",
    "\n",
    "    {% if prediction_text %}\n",
    "        <h3 style=\"color: green;\">Prediction: {{ prediction_text }}</h3>\n",
    "    {% endif %}\n",
    "</body>\n",
    "</html>\n"
   ]
  },
  {
   "cell_type": "code",
   "execution_count": null,
   "id": "60052e70-9b52-458a-af12-3249634ebf19",
   "metadata": {},
   "outputs": [],
   "source": [
    "%%writefile app.py\n",
    "from flask import Flask, render_template, request\n",
    "import joblib\n",
    "import numpy as np\n",
    "\n",
    "app = Flask(__name__)\n",
    "\n",
    "# Load your trained Titanic model\n",
    "model = joblib.load(\"titanic_model.pkl\")\n",
    "\n",
    "@app.route(\"/\")\n",
    "def home():\n",
    "    return render_template(\"index.html\")\n",
    "\n",
    "@app.route(\"/predict\", methods=[\"POST\"])\n",
    "def predict():\n",
    "    pclass = int(request.form[\"pclass\"])\n",
    "    sex = int(request.form[\"sex\"])\n",
    "    age = float(request.form[\"age\"])\n",
    "    sibsp = int(request.form[\"sibsp\"])\n",
    "    parch = int(request.form[\"parch\"])\n",
    "    fare = float(request.form[\"fare\"])\n",
    "    embarked = int(request.form[\"embarked\"])\n",
    "\n",
    "    # Create input array for model\n",
    "    input_data = np.array([[pclass, sex, age, sibsp, parch, fare, embarked]])\n",
    "\n",
    "    # Predict\n",
    "    prediction = model.predict(input_data)[0]\n",
    "    result = \"Survived ✅\" if prediction == 1 else \"Did not survive ❌\"\n",
    "\n",
    "    return render_template(\"index.html\", prediction_text=result)\n",
    "\n",
    "if __name__ == \"__main__\":\n",
    "    app.run(debug=True)\n"
   ]
  },
  {
   "cell_type": "code",
   "execution_count": null,
   "id": "fd75b08a-5471-4303-9fc2-0a095b39827c",
   "metadata": {},
   "outputs": [],
   "source": [
    "!python app.py"
   ]
  },
  {
   "cell_type": "code",
   "execution_count": null,
   "id": "ee106562-50a3-4b2d-9cd9-b542fd455899",
   "metadata": {},
   "outputs": [],
   "source": []
  }
 ],
 "metadata": {
  "kernelspec": {
   "display_name": "Python 3 (ipykernel)",
   "language": "python",
   "name": "python3"
  },
  "language_info": {
   "codemirror_mode": {
    "name": "ipython",
    "version": 3
   },
   "file_extension": ".py",
   "mimetype": "text/x-python",
   "name": "python",
   "nbconvert_exporter": "python",
   "pygments_lexer": "ipython3",
   "version": "3.12.7"
  }
 },
 "nbformat": 4,
 "nbformat_minor": 5
}
